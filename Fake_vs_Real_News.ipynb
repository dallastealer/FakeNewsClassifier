{
  "nbformat": 4,
  "nbformat_minor": 0,
  "metadata": {
    "colab": {
      "name": "Fake_vs_Real_News.ipynb",
      "provenance": [],
      "collapsed_sections": []
    },
    "kernelspec": {
      "name": "python3",
      "display_name": "Python 3"
    },
    "language_info": {
      "name": "python"
    },
    "accelerator": "GPU"
  },
  "cells": [
    {
      "cell_type": "markdown",
      "source": [
        "# Fake vs. Real News Classification using NLP\n",
        "\n",
        "The goal of this project is to classify news as fake or real based on the title of the article and the article text\n",
        "\n",
        "Dataset was pulled from kaggle: https://www.kaggle.com/datasets/jillanisofttech/fake-or-real-news"
      ],
      "metadata": {
        "id": "8v9J4rwprpn0"
      }
    },
    {
      "cell_type": "markdown",
      "source": [
        "## Imports"
      ],
      "metadata": {
        "id": "hMv4d_jrryqw"
      }
    },
    {
      "cell_type": "code",
      "execution_count": 1,
      "metadata": {
        "id": "OCVXejCZrl7G"
      },
      "outputs": [],
      "source": [
        "import numpy as np\n",
        "import pandas as pd\n",
        "import matplotlib.pyplot as plt\n",
        "import tensorflow as tf"
      ]
    },
    {
      "cell_type": "markdown",
      "source": [
        "## Reading in the Data"
      ],
      "metadata": {
        "id": "9oSGzvQZtdb_"
      }
    },
    {
      "cell_type": "code",
      "source": [
        "# Pulling the data from my github repository\n",
        "!wget https://github.com/dallastealer/FakeNewsClassifier/blob/main/fake_or_real_news.csv.zip?raw=true"
      ],
      "metadata": {
        "colab": {
          "base_uri": "https://localhost:8080/"
        },
        "id": "IN90rCs8taWA",
        "outputId": "68217402-7421-4bf2-be6b-d9d5bddf2e47"
      },
      "execution_count": 2,
      "outputs": [
        {
          "output_type": "stream",
          "name": "stdout",
          "text": [
            "--2022-04-26 00:16:06--  https://github.com/dallastealer/FakeNewsClassifier/blob/main/fake_or_real_news.csv.zip?raw=true\n",
            "Resolving github.com (github.com)... 52.192.72.89\n",
            "Connecting to github.com (github.com)|52.192.72.89|:443... connected.\n",
            "HTTP request sent, awaiting response... 302 Found\n",
            "Location: https://github.com/dallastealer/FakeNewsClassifier/raw/main/fake_or_real_news.csv.zip [following]\n",
            "--2022-04-26 00:16:07--  https://github.com/dallastealer/FakeNewsClassifier/raw/main/fake_or_real_news.csv.zip\n",
            "Reusing existing connection to github.com:443.\n",
            "HTTP request sent, awaiting response... 302 Found\n",
            "Location: https://raw.githubusercontent.com/dallastealer/FakeNewsClassifier/main/fake_or_real_news.csv.zip [following]\n",
            "--2022-04-26 00:16:07--  https://raw.githubusercontent.com/dallastealer/FakeNewsClassifier/main/fake_or_real_news.csv.zip\n",
            "Resolving raw.githubusercontent.com (raw.githubusercontent.com)... 185.199.108.133, 185.199.109.133, 185.199.110.133, ...\n",
            "Connecting to raw.githubusercontent.com (raw.githubusercontent.com)|185.199.108.133|:443... connected.\n",
            "HTTP request sent, awaiting response... 200 OK\n",
            "Length: 11877822 (11M) [application/zip]\n",
            "Saving to: ‘fake_or_real_news.csv.zip?raw=true.3’\n",
            "\n",
            "fake_or_real_news.c 100%[===================>]  11.33M  --.-KB/s    in 0.1s    \n",
            "\n",
            "2022-04-26 00:16:08 (98.3 MB/s) - ‘fake_or_real_news.csv.zip?raw=true.3’ saved [11877822/11877822]\n",
            "\n"
          ]
        }
      ]
    },
    {
      "cell_type": "code",
      "source": [
        "from zipfile import ZipFile\n",
        "# use zipfile to extract contents from downloaded zip\n",
        "file = ZipFile(\"fake_or_real_news.csv.zip?raw=true\")\n",
        "file.extractall()\n",
        "file.close()"
      ],
      "metadata": {
        "id": "ve7KdvC5uiQP"
      },
      "execution_count": 3,
      "outputs": []
    },
    {
      "cell_type": "markdown",
      "source": [
        "## View Data"
      ],
      "metadata": {
        "id": "kwUBGoxZwUAr"
      }
    },
    {
      "cell_type": "code",
      "source": [
        "df = pd.read_csv(\"fake_or_real_news.csv\")\n",
        "df.head()"
      ],
      "metadata": {
        "colab": {
          "base_uri": "https://localhost:8080/",
          "height": 206
        },
        "id": "kr3fBzPovSkG",
        "outputId": "5067a091-7603-4c37-9dd2-2e095bbb4a88"
      },
      "execution_count": 4,
      "outputs": [
        {
          "output_type": "execute_result",
          "data": {
            "text/plain": [
              "   Unnamed: 0                                              title  \\\n",
              "0        8476                       You Can Smell Hillary’s Fear   \n",
              "1       10294  Watch The Exact Moment Paul Ryan Committed Pol...   \n",
              "2        3608        Kerry to go to Paris in gesture of sympathy   \n",
              "3       10142  Bernie supporters on Twitter erupt in anger ag...   \n",
              "4         875   The Battle of New York: Why This Primary Matters   \n",
              "\n",
              "                                                text label  \n",
              "0  Daniel Greenfield, a Shillman Journalism Fello...  FAKE  \n",
              "1  Google Pinterest Digg Linkedin Reddit Stumbleu...  FAKE  \n",
              "2  U.S. Secretary of State John F. Kerry said Mon...  REAL  \n",
              "3  — Kaydee King (@KaydeeKing) November 9, 2016 T...  FAKE  \n",
              "4  It's primary day in New York and front-runners...  REAL  "
            ],
            "text/html": [
              "\n",
              "  <div id=\"df-fbc6a31a-65b3-47ca-8b92-94a9925e7b72\">\n",
              "    <div class=\"colab-df-container\">\n",
              "      <div>\n",
              "<style scoped>\n",
              "    .dataframe tbody tr th:only-of-type {\n",
              "        vertical-align: middle;\n",
              "    }\n",
              "\n",
              "    .dataframe tbody tr th {\n",
              "        vertical-align: top;\n",
              "    }\n",
              "\n",
              "    .dataframe thead th {\n",
              "        text-align: right;\n",
              "    }\n",
              "</style>\n",
              "<table border=\"1\" class=\"dataframe\">\n",
              "  <thead>\n",
              "    <tr style=\"text-align: right;\">\n",
              "      <th></th>\n",
              "      <th>Unnamed: 0</th>\n",
              "      <th>title</th>\n",
              "      <th>text</th>\n",
              "      <th>label</th>\n",
              "    </tr>\n",
              "  </thead>\n",
              "  <tbody>\n",
              "    <tr>\n",
              "      <th>0</th>\n",
              "      <td>8476</td>\n",
              "      <td>You Can Smell Hillary’s Fear</td>\n",
              "      <td>Daniel Greenfield, a Shillman Journalism Fello...</td>\n",
              "      <td>FAKE</td>\n",
              "    </tr>\n",
              "    <tr>\n",
              "      <th>1</th>\n",
              "      <td>10294</td>\n",
              "      <td>Watch The Exact Moment Paul Ryan Committed Pol...</td>\n",
              "      <td>Google Pinterest Digg Linkedin Reddit Stumbleu...</td>\n",
              "      <td>FAKE</td>\n",
              "    </tr>\n",
              "    <tr>\n",
              "      <th>2</th>\n",
              "      <td>3608</td>\n",
              "      <td>Kerry to go to Paris in gesture of sympathy</td>\n",
              "      <td>U.S. Secretary of State John F. Kerry said Mon...</td>\n",
              "      <td>REAL</td>\n",
              "    </tr>\n",
              "    <tr>\n",
              "      <th>3</th>\n",
              "      <td>10142</td>\n",
              "      <td>Bernie supporters on Twitter erupt in anger ag...</td>\n",
              "      <td>— Kaydee King (@KaydeeKing) November 9, 2016 T...</td>\n",
              "      <td>FAKE</td>\n",
              "    </tr>\n",
              "    <tr>\n",
              "      <th>4</th>\n",
              "      <td>875</td>\n",
              "      <td>The Battle of New York: Why This Primary Matters</td>\n",
              "      <td>It's primary day in New York and front-runners...</td>\n",
              "      <td>REAL</td>\n",
              "    </tr>\n",
              "  </tbody>\n",
              "</table>\n",
              "</div>\n",
              "      <button class=\"colab-df-convert\" onclick=\"convertToInteractive('df-fbc6a31a-65b3-47ca-8b92-94a9925e7b72')\"\n",
              "              title=\"Convert this dataframe to an interactive table.\"\n",
              "              style=\"display:none;\">\n",
              "        \n",
              "  <svg xmlns=\"http://www.w3.org/2000/svg\" height=\"24px\"viewBox=\"0 0 24 24\"\n",
              "       width=\"24px\">\n",
              "    <path d=\"M0 0h24v24H0V0z\" fill=\"none\"/>\n",
              "    <path d=\"M18.56 5.44l.94 2.06.94-2.06 2.06-.94-2.06-.94-.94-2.06-.94 2.06-2.06.94zm-11 1L8.5 8.5l.94-2.06 2.06-.94-2.06-.94L8.5 2.5l-.94 2.06-2.06.94zm10 10l.94 2.06.94-2.06 2.06-.94-2.06-.94-.94-2.06-.94 2.06-2.06.94z\"/><path d=\"M17.41 7.96l-1.37-1.37c-.4-.4-.92-.59-1.43-.59-.52 0-1.04.2-1.43.59L10.3 9.45l-7.72 7.72c-.78.78-.78 2.05 0 2.83L4 21.41c.39.39.9.59 1.41.59.51 0 1.02-.2 1.41-.59l7.78-7.78 2.81-2.81c.8-.78.8-2.07 0-2.86zM5.41 20L4 18.59l7.72-7.72 1.47 1.35L5.41 20z\"/>\n",
              "  </svg>\n",
              "      </button>\n",
              "      \n",
              "  <style>\n",
              "    .colab-df-container {\n",
              "      display:flex;\n",
              "      flex-wrap:wrap;\n",
              "      gap: 12px;\n",
              "    }\n",
              "\n",
              "    .colab-df-convert {\n",
              "      background-color: #E8F0FE;\n",
              "      border: none;\n",
              "      border-radius: 50%;\n",
              "      cursor: pointer;\n",
              "      display: none;\n",
              "      fill: #1967D2;\n",
              "      height: 32px;\n",
              "      padding: 0 0 0 0;\n",
              "      width: 32px;\n",
              "    }\n",
              "\n",
              "    .colab-df-convert:hover {\n",
              "      background-color: #E2EBFA;\n",
              "      box-shadow: 0px 1px 2px rgba(60, 64, 67, 0.3), 0px 1px 3px 1px rgba(60, 64, 67, 0.15);\n",
              "      fill: #174EA6;\n",
              "    }\n",
              "\n",
              "    [theme=dark] .colab-df-convert {\n",
              "      background-color: #3B4455;\n",
              "      fill: #D2E3FC;\n",
              "    }\n",
              "\n",
              "    [theme=dark] .colab-df-convert:hover {\n",
              "      background-color: #434B5C;\n",
              "      box-shadow: 0px 1px 3px 1px rgba(0, 0, 0, 0.15);\n",
              "      filter: drop-shadow(0px 1px 2px rgba(0, 0, 0, 0.3));\n",
              "      fill: #FFFFFF;\n",
              "    }\n",
              "  </style>\n",
              "\n",
              "      <script>\n",
              "        const buttonEl =\n",
              "          document.querySelector('#df-fbc6a31a-65b3-47ca-8b92-94a9925e7b72 button.colab-df-convert');\n",
              "        buttonEl.style.display =\n",
              "          google.colab.kernel.accessAllowed ? 'block' : 'none';\n",
              "\n",
              "        async function convertToInteractive(key) {\n",
              "          const element = document.querySelector('#df-fbc6a31a-65b3-47ca-8b92-94a9925e7b72');\n",
              "          const dataTable =\n",
              "            await google.colab.kernel.invokeFunction('convertToInteractive',\n",
              "                                                     [key], {});\n",
              "          if (!dataTable) return;\n",
              "\n",
              "          const docLinkHtml = 'Like what you see? Visit the ' +\n",
              "            '<a target=\"_blank\" href=https://colab.research.google.com/notebooks/data_table.ipynb>data table notebook</a>'\n",
              "            + ' to learn more about interactive tables.';\n",
              "          element.innerHTML = '';\n",
              "          dataTable['output_type'] = 'display_data';\n",
              "          await google.colab.output.renderOutput(dataTable, element);\n",
              "          const docLink = document.createElement('div');\n",
              "          docLink.innerHTML = docLinkHtml;\n",
              "          element.appendChild(docLink);\n",
              "        }\n",
              "      </script>\n",
              "    </div>\n",
              "  </div>\n",
              "  "
            ]
          },
          "metadata": {},
          "execution_count": 4
        }
      ]
    },
    {
      "cell_type": "code",
      "source": [
        "# View a sample text\n",
        "df[\"text\"].iloc[0]"
      ],
      "metadata": {
        "colab": {
          "base_uri": "https://localhost:8080/",
          "height": 142
        },
        "id": "iiUokUMAwxak",
        "outputId": "f4b6b9a7-ebcf-41dd-d9f1-b4444a477131"
      },
      "execution_count": 5,
      "outputs": [
        {
          "output_type": "execute_result",
          "data": {
            "text/plain": [
              "'Daniel Greenfield, a Shillman Journalism Fellow at the Freedom Center, is a New York writer focusing on radical Islam. \\nIn the final stretch of the election, Hillary Rodham Clinton has gone to war with the FBI. \\nThe word “unprecedented” has been thrown around so often this election that it ought to be retired. But it’s still unprecedented for the nominee of a major political party to go war with the FBI. \\nBut that’s exactly what Hillary and her people have done. Coma patients just waking up now and watching an hour of CNN from their hospital beds would assume that FBI Director James Comey is Hillary’s opponent in this election. \\nThe FBI is under attack by everyone from Obama to CNN. Hillary’s people have circulated a letter attacking Comey. There are currently more media hit pieces lambasting him than targeting Trump. It wouldn’t be too surprising if the Clintons or their allies were to start running attack ads against the FBI. \\nThe FBI’s leadership is being warned that the entire left-wing establishment will form a lynch mob if they continue going after Hillary. And the FBI’s credibility is being attacked by the media and the Democrats to preemptively head off the results of the investigation of the Clinton Foundation and Hillary Clinton. \\nThe covert struggle between FBI agents and Obama’s DOJ people has gone explosively public. \\nThe New York Times has compared Comey to J. Edgar Hoover. Its bizarre headline, “James Comey Role Recalls Hoover’s FBI, Fairly or Not” practically admits up front that it’s spouting nonsense. The Boston Globe has published a column calling for Comey’s resignation. Not to be outdone, Time has an editorial claiming that the scandal is really an attack on all women. \\nJames Carville appeared on MSNBC to remind everyone that he was still alive and insane. He accused Comey of coordinating with House Republicans and the KGB. And you thought the “vast right wing conspiracy” was a stretch. \\nCountless media stories charge Comey with violating procedure. Do you know what’s a procedural violation? Emailing classified information stored on your bathroom server. \\nSenator Harry Reid has sent Comey a letter accusing him of violating the Hatch Act. The Hatch Act is a nice idea that has as much relevance in the age of Obama as the Tenth Amendment. But the cable news spectrum quickly filled with media hacks glancing at the Wikipedia article on the Hatch Act under the table while accusing the FBI director of one of the most awkward conspiracies against Hillary ever. \\nIf James Comey is really out to hurt Hillary, he picked one hell of a strange way to do it. \\nNot too long ago Democrats were breathing a sigh of relief when he gave Hillary Clinton a pass in a prominent public statement. If he really were out to elect Trump by keeping the email scandal going, why did he trash the investigation? Was he on the payroll of House Republicans and the KGB back then and playing it coy or was it a sudden development where Vladimir Putin and Paul Ryan talked him into taking a look at Anthony Weiner’s computer? \\nEither Comey is the most cunning FBI director that ever lived or he’s just awkwardly trying to navigate a political mess that has trapped him between a DOJ leadership whose political futures are tied to Hillary’s victory and his own bureau whose apolitical agents just want to be allowed to do their jobs. \\nThe only truly mysterious thing is why Hillary and her associates decided to go to war with a respected Federal agency. Most Americans like the FBI while Hillary Clinton enjoys a 60% unfavorable rating. \\nAnd it’s an interesting question. \\nHillary’s old strategy was to lie and deny that the FBI even had a criminal investigation underway. Instead her associates insisted that it was a security review. The FBI corrected her and she shrugged it off. But the old breezy denial approach has given way to a savage assault on the FBI. \\nPretending that nothing was wrong was a bad strategy, but it was a better one that picking a fight with the FBI while lunatic Clinton associates try to claim that the FBI is really the KGB. \\nThere are two possible explanations. \\nHillary Clinton might be arrogant enough to lash out at the FBI now that she believes that victory is near. The same kind of hubris that led her to plan her victory fireworks display could lead her to declare a war on the FBI for irritating her during the final miles of her campaign. \\nBut the other explanation is that her people panicked. \\nGoing to war with the FBI is not the behavior of a smart and focused presidential campaign. It’s an act of desperation. When a presidential candidate decides that her only option is to try and destroy the credibility of the FBI, that’s not hubris, it’s fear of what the FBI might be about to reveal about her. \\nDuring the original FBI investigation, Hillary Clinton was confident that she could ride it out. And she had good reason for believing that. But that Hillary Clinton is gone. In her place is a paranoid wreck. Within a short space of time the “positive” Clinton campaign promising to unite the country has been replaced by a desperate and flailing operation that has focused all its energy on fighting the FBI. \\nThere’s only one reason for such bizarre behavior. \\nThe Clinton campaign has decided that an FBI investigation of the latest batch of emails poses a threat to its survival. And so it’s gone all in on fighting the FBI. It’s an unprecedented step born of fear. It’s hard to know whether that fear is justified. But the existence of that fear already tells us a whole lot. \\nClinton loyalists rigged the old investigation. They knew the outcome ahead of time as well as they knew the debate questions. Now suddenly they are no longer in control. And they are afraid. \\nYou can smell the fear. \\nThe FBI has wiretaps from the investigation of the Clinton Foundation. It’s finding new emails all the time. And Clintonworld panicked. The spinmeisters of Clintonworld have claimed that the email scandal is just so much smoke without fire. All that’s here is the appearance of impropriety without any of the substance. But this isn’t how you react to smoke. It’s how you respond to a fire. \\nThe misguided assault on the FBI tells us that Hillary Clinton and her allies are afraid of a revelation bigger than the fundamental illegality of her email setup. The email setup was a preemptive cover up. The Clinton campaign has panicked badly out of the belief, right or wrong, that whatever crime the illegal setup was meant to cover up is at risk of being exposed. \\nThe Clintons have weathered countless scandals over the years. Whatever they are protecting this time around is bigger than the usual corruption, bribery, sexual assaults and abuses of power that have followed them around throughout the years. This is bigger and more damaging than any of the allegations that have already come out. And they don’t want FBI investigators anywhere near it. \\nThe campaign against Comey is pure intimidation. It’s also a warning. Any senior FBI people who value their careers are being warned to stay away. The Democrats are closing ranks around their nominee against the FBI. It’s an ugly and unprecedented scene. It may also be their last stand. \\nHillary Clinton has awkwardly wound her way through numerous scandals in just this election cycle. But she’s never shown fear or desperation before. Now that has changed. Whatever she is afraid of, it lies buried in her emails with Huma Abedin. And it can bring her down like nothing else has.  '"
            ],
            "application/vnd.google.colaboratory.intrinsic+json": {
              "type": "string"
            }
          },
          "metadata": {},
          "execution_count": 5
        }
      ]
    },
    {
      "cell_type": "code",
      "source": [
        "# Check average length of title in words\n",
        "\n",
        "title_lengths = [len(title.split()) for title in df[\"title\"]]\n",
        "np.mean(title_lengths)"
      ],
      "metadata": {
        "colab": {
          "base_uri": "https://localhost:8080/"
        },
        "id": "pzHrEEDMxGin",
        "outputId": "ebd27725-4935-4d8c-f2ae-7c893f26da0f"
      },
      "execution_count": 6,
      "outputs": [
        {
          "output_type": "execute_result",
          "data": {
            "text/plain": [
              "10.496448303078138"
            ]
          },
          "metadata": {},
          "execution_count": 6
        }
      ]
    },
    {
      "cell_type": "code",
      "source": [
        "# Check average length of text in words\n",
        "text_lengths = [len(text.split()) for text in df[\"text\"]]\n",
        "np.mean(text_lengths)"
      ],
      "metadata": {
        "colab": {
          "base_uri": "https://localhost:8080/"
        },
        "id": "i0Q4fUvwxWBb",
        "outputId": "a8bd6cb7-4e3e-4ecb-c087-adf32bc9c6b7"
      },
      "execution_count": 7,
      "outputs": [
        {
          "output_type": "execute_result",
          "data": {
            "text/plain": [
              "776.3007103393844"
            ]
          },
          "metadata": {},
          "execution_count": 7
        }
      ]
    },
    {
      "cell_type": "markdown",
      "source": [
        "## Prepare Data For Model"
      ],
      "metadata": {
        "id": "W92b7ymjyWdr"
      }
    },
    {
      "cell_type": "code",
      "source": [
        "# Append Title to the front of each article\n",
        "\n",
        "X = []\n",
        "y = []\n",
        "\n",
        "for index, row in df.iterrows():\n",
        "  X.append((row[\"title\"] + \": \" + row[\"text\"]).lower())\n",
        "  y.append(row[\"label\"])\n",
        "\n",
        "X[0], y[:5]"
      ],
      "metadata": {
        "colab": {
          "base_uri": "https://localhost:8080/"
        },
        "id": "_jfDd2hHxw5y",
        "outputId": "fc2909c1-a36d-4853-db29-31142226f21e"
      },
      "execution_count": 8,
      "outputs": [
        {
          "output_type": "execute_result",
          "data": {
            "text/plain": [
              "('you can smell hillary’s fear: daniel greenfield, a shillman journalism fellow at the freedom center, is a new york writer focusing on radical islam. \\nin the final stretch of the election, hillary rodham clinton has gone to war with the fbi. \\nthe word “unprecedented” has been thrown around so often this election that it ought to be retired. but it’s still unprecedented for the nominee of a major political party to go war with the fbi. \\nbut that’s exactly what hillary and her people have done. coma patients just waking up now and watching an hour of cnn from their hospital beds would assume that fbi director james comey is hillary’s opponent in this election. \\nthe fbi is under attack by everyone from obama to cnn. hillary’s people have circulated a letter attacking comey. there are currently more media hit pieces lambasting him than targeting trump. it wouldn’t be too surprising if the clintons or their allies were to start running attack ads against the fbi. \\nthe fbi’s leadership is being warned that the entire left-wing establishment will form a lynch mob if they continue going after hillary. and the fbi’s credibility is being attacked by the media and the democrats to preemptively head off the results of the investigation of the clinton foundation and hillary clinton. \\nthe covert struggle between fbi agents and obama’s doj people has gone explosively public. \\nthe new york times has compared comey to j. edgar hoover. its bizarre headline, “james comey role recalls hoover’s fbi, fairly or not” practically admits up front that it’s spouting nonsense. the boston globe has published a column calling for comey’s resignation. not to be outdone, time has an editorial claiming that the scandal is really an attack on all women. \\njames carville appeared on msnbc to remind everyone that he was still alive and insane. he accused comey of coordinating with house republicans and the kgb. and you thought the “vast right wing conspiracy” was a stretch. \\ncountless media stories charge comey with violating procedure. do you know what’s a procedural violation? emailing classified information stored on your bathroom server. \\nsenator harry reid has sent comey a letter accusing him of violating the hatch act. the hatch act is a nice idea that has as much relevance in the age of obama as the tenth amendment. but the cable news spectrum quickly filled with media hacks glancing at the wikipedia article on the hatch act under the table while accusing the fbi director of one of the most awkward conspiracies against hillary ever. \\nif james comey is really out to hurt hillary, he picked one hell of a strange way to do it. \\nnot too long ago democrats were breathing a sigh of relief when he gave hillary clinton a pass in a prominent public statement. if he really were out to elect trump by keeping the email scandal going, why did he trash the investigation? was he on the payroll of house republicans and the kgb back then and playing it coy or was it a sudden development where vladimir putin and paul ryan talked him into taking a look at anthony weiner’s computer? \\neither comey is the most cunning fbi director that ever lived or he’s just awkwardly trying to navigate a political mess that has trapped him between a doj leadership whose political futures are tied to hillary’s victory and his own bureau whose apolitical agents just want to be allowed to do their jobs. \\nthe only truly mysterious thing is why hillary and her associates decided to go to war with a respected federal agency. most americans like the fbi while hillary clinton enjoys a 60% unfavorable rating. \\nand it’s an interesting question. \\nhillary’s old strategy was to lie and deny that the fbi even had a criminal investigation underway. instead her associates insisted that it was a security review. the fbi corrected her and she shrugged it off. but the old breezy denial approach has given way to a savage assault on the fbi. \\npretending that nothing was wrong was a bad strategy, but it was a better one that picking a fight with the fbi while lunatic clinton associates try to claim that the fbi is really the kgb. \\nthere are two possible explanations. \\nhillary clinton might be arrogant enough to lash out at the fbi now that she believes that victory is near. the same kind of hubris that led her to plan her victory fireworks display could lead her to declare a war on the fbi for irritating her during the final miles of her campaign. \\nbut the other explanation is that her people panicked. \\ngoing to war with the fbi is not the behavior of a smart and focused presidential campaign. it’s an act of desperation. when a presidential candidate decides that her only option is to try and destroy the credibility of the fbi, that’s not hubris, it’s fear of what the fbi might be about to reveal about her. \\nduring the original fbi investigation, hillary clinton was confident that she could ride it out. and she had good reason for believing that. but that hillary clinton is gone. in her place is a paranoid wreck. within a short space of time the “positive” clinton campaign promising to unite the country has been replaced by a desperate and flailing operation that has focused all its energy on fighting the fbi. \\nthere’s only one reason for such bizarre behavior. \\nthe clinton campaign has decided that an fbi investigation of the latest batch of emails poses a threat to its survival. and so it’s gone all in on fighting the fbi. it’s an unprecedented step born of fear. it’s hard to know whether that fear is justified. but the existence of that fear already tells us a whole lot. \\nclinton loyalists rigged the old investigation. they knew the outcome ahead of time as well as they knew the debate questions. now suddenly they are no longer in control. and they are afraid. \\nyou can smell the fear. \\nthe fbi has wiretaps from the investigation of the clinton foundation. it’s finding new emails all the time. and clintonworld panicked. the spinmeisters of clintonworld have claimed that the email scandal is just so much smoke without fire. all that’s here is the appearance of impropriety without any of the substance. but this isn’t how you react to smoke. it’s how you respond to a fire. \\nthe misguided assault on the fbi tells us that hillary clinton and her allies are afraid of a revelation bigger than the fundamental illegality of her email setup. the email setup was a preemptive cover up. the clinton campaign has panicked badly out of the belief, right or wrong, that whatever crime the illegal setup was meant to cover up is at risk of being exposed. \\nthe clintons have weathered countless scandals over the years. whatever they are protecting this time around is bigger than the usual corruption, bribery, sexual assaults and abuses of power that have followed them around throughout the years. this is bigger and more damaging than any of the allegations that have already come out. and they don’t want fbi investigators anywhere near it. \\nthe campaign against comey is pure intimidation. it’s also a warning. any senior fbi people who value their careers are being warned to stay away. the democrats are closing ranks around their nominee against the fbi. it’s an ugly and unprecedented scene. it may also be their last stand. \\nhillary clinton has awkwardly wound her way through numerous scandals in just this election cycle. but she’s never shown fear or desperation before. now that has changed. whatever she is afraid of, it lies buried in her emails with huma abedin. and it can bring her down like nothing else has.  ',\n",
              " ['FAKE', 'FAKE', 'REAL', 'FAKE', 'REAL'])"
            ]
          },
          "metadata": {},
          "execution_count": 8
        }
      ]
    },
    {
      "cell_type": "code",
      "source": [
        "# Check what text length covers 95% of the data\n",
        "\n",
        "lengths = [len(article.split()) for article in X]\n",
        "coverage_length = np.percentile(lengths, 95)\n",
        "print(f\"95% of the articles are {int(coverage_length)} words in length or less\")"
      ],
      "metadata": {
        "colab": {
          "base_uri": "https://localhost:8080/"
        },
        "id": "y7RX0NFxyxVT",
        "outputId": "4cf192d0-6731-4569-a651-1a3ebdba750c"
      },
      "execution_count": 9,
      "outputs": [
        {
          "output_type": "stream",
          "name": "stdout",
          "text": [
            "95% of the articles are 2036 words in length or less\n"
          ]
        }
      ]
    },
    {
      "cell_type": "markdown",
      "source": [
        "## Splitting Data into Training and Testing Sets"
      ],
      "metadata": {
        "id": "vT4nl-H43U9J"
      }
    },
    {
      "cell_type": "code",
      "source": [
        "from sklearn.model_selection import train_test_split\n",
        "X_train, X_test, y_train, y_test = train_test_split(X, y, test_size=0.15)\n",
        "len(X_train), len(y_train), len(X_test), len(y_test)"
      ],
      "metadata": {
        "colab": {
          "base_uri": "https://localhost:8080/"
        },
        "id": "13PyaTYw3YvW",
        "outputId": "138ab633-f238-4659-85f6-83fdf9c52fb4"
      },
      "execution_count": 10,
      "outputs": [
        {
          "output_type": "execute_result",
          "data": {
            "text/plain": [
              "(5384, 5384, 951, 951)"
            ]
          },
          "metadata": {},
          "execution_count": 10
        }
      ]
    },
    {
      "cell_type": "code",
      "source": [
        "# Turn labels into 1 and 0\n",
        "y_labels = {\"FAKE\": 0, \"REAL\": 1}\n",
        "y_train = [y_labels[label] for label in y_train]\n",
        "y_test = [y_labels[label] for label in y_test]\n",
        "y_train[:5], y_test[:5]"
      ],
      "metadata": {
        "colab": {
          "base_uri": "https://localhost:8080/"
        },
        "id": "xeeRf1qSIw1u",
        "outputId": "b3280d64-ceb7-492f-97b9-3e108f121eac"
      },
      "execution_count": 11,
      "outputs": [
        {
          "output_type": "execute_result",
          "data": {
            "text/plain": [
              "([1, 0, 0, 0, 0], [0, 0, 0, 0, 1])"
            ]
          },
          "metadata": {},
          "execution_count": 11
        }
      ]
    },
    {
      "cell_type": "markdown",
      "source": [
        "## Text Vectorizer"
      ],
      "metadata": {
        "id": "PwHUsoQV1mwF"
      }
    },
    {
      "cell_type": "code",
      "source": [
        "from tensorflow.keras.layers import TextVectorization"
      ],
      "metadata": {
        "id": "YFVYC51dzgma"
      },
      "execution_count": 12,
      "outputs": []
    },
    {
      "cell_type": "code",
      "source": [
        "vectorizer = TextVectorization(max_tokens=60000, #Vocabulary size, may need to increase\n",
        "                               output_mode=\"int\",\n",
        "                               output_sequence_length=int(coverage_length))"
      ],
      "metadata": {
        "id": "62knU0671q6_"
      },
      "execution_count": 13,
      "outputs": []
    },
    {
      "cell_type": "code",
      "source": [
        "# Fit vectorizer to training data\n",
        "vectorizer.adapt(X_train)"
      ],
      "metadata": {
        "id": "0g5u5S-Z3KNi"
      },
      "execution_count": 14,
      "outputs": []
    },
    {
      "cell_type": "code",
      "source": [
        "# Test that vectorizer is working\n",
        "\n",
        "print(f\"10 most common words: {vectorizer.get_vocabulary()[:10]}\")\n",
        "print(f\"10 least common words: {vectorizer.get_vocabulary()[-10:]}\")\n",
        "print(f\"Vocabulary size: {len(vectorizer.get_vocabulary())}\")"
      ],
      "metadata": {
        "colab": {
          "base_uri": "https://localhost:8080/"
        },
        "id": "3zKdVkd4HYGU",
        "outputId": "ee9bded5-b123-4d4e-b11d-851af0ec30b9"
      },
      "execution_count": 15,
      "outputs": [
        {
          "output_type": "stream",
          "name": "stdout",
          "text": [
            "10 most common words: ['', '[UNK]', 'the', 'to', 'of', 'and', 'a', 'in', 'that', 'is']\n",
            "10 least common words: ['\\x93very', '\\x93trump', '\\x93tradecraft', '\\x93trace', '\\x93toughness\\x94', '\\x93too', '\\x93this', '\\x93they\\x92re', '\\x93these', '\\x93there\\x92s']\n",
            "Vocabulary size: 60000\n"
          ]
        }
      ]
    },
    {
      "cell_type": "markdown",
      "source": [
        "## Custom Embedding Layer"
      ],
      "metadata": {
        "id": "sdufvougJUcl"
      }
    },
    {
      "cell_type": "code",
      "source": [
        "from tensorflow.keras.layers import Embedding\n",
        "\n",
        "embedding = Embedding(input_dim=60000, #Should match vocab size\n",
        "                      output_dim=128,\n",
        "                      input_length=int(coverage_length))"
      ],
      "metadata": {
        "id": "oKTsrFkPHnhi"
      },
      "execution_count": 16,
      "outputs": []
    },
    {
      "cell_type": "code",
      "source": [
        "# Test Embedding\n",
        "embedding(vectorizer(X_train[0]))"
      ],
      "metadata": {
        "colab": {
          "base_uri": "https://localhost:8080/"
        },
        "id": "UNfgZ47lJs8I",
        "outputId": "aa446adb-83d1-4df9-c204-5e4706828b8d"
      },
      "execution_count": 17,
      "outputs": [
        {
          "output_type": "execute_result",
          "data": {
            "text/plain": [
              "<tf.Tensor: shape=(2036, 128), dtype=float32, numpy=\n",
              "array([[ 0.04849455,  0.03798131, -0.01827631, ...,  0.04722777,\n",
              "        -0.01475282, -0.00950872],\n",
              "       [ 0.03924265, -0.01814746,  0.02333278, ..., -0.02782877,\n",
              "         0.02108515,  0.03726808],\n",
              "       [ 0.01381816,  0.04656034, -0.04170482, ..., -0.03166689,\n",
              "         0.00227934, -0.01214473],\n",
              "       ...,\n",
              "       [-0.04459558, -0.02250531, -0.03227811, ..., -0.01424537,\n",
              "        -0.01146477,  0.03793548],\n",
              "       [-0.04459558, -0.02250531, -0.03227811, ..., -0.01424537,\n",
              "        -0.01146477,  0.03793548],\n",
              "       [-0.04459558, -0.02250531, -0.03227811, ..., -0.01424537,\n",
              "        -0.01146477,  0.03793548]], dtype=float32)>"
            ]
          },
          "metadata": {},
          "execution_count": 17
        }
      ]
    },
    {
      "cell_type": "markdown",
      "source": [
        "## Create Baseline with Sklearn TF-IDF and Naive Bayes"
      ],
      "metadata": {
        "id": "o6R6-XjoJ3d7"
      }
    },
    {
      "cell_type": "code",
      "source": [
        "from sklearn.feature_extraction.text import TfidfVectorizer\n",
        "from sklearn.naive_bayes import MultinomialNB\n",
        "from sklearn.pipeline import Pipeline\n",
        "\n",
        "model_0 = Pipeline([\n",
        "  (\"tfidf\", TfidfVectorizer()), # Words to numbers\n",
        "  (\"clf\", MultinomialNB()) # model the text\n",
        "])\n",
        "\n",
        "# Fit the pipeline to the training data\n",
        "model_0.fit(X_train, y_train)"
      ],
      "metadata": {
        "colab": {
          "base_uri": "https://localhost:8080/"
        },
        "id": "6aDTEM1pJz6l",
        "outputId": "794f6a81-2604-4bcd-aa4e-eae2909d1eac"
      },
      "execution_count": 18,
      "outputs": [
        {
          "output_type": "execute_result",
          "data": {
            "text/plain": [
              "Pipeline(steps=[('tfidf', TfidfVectorizer()), ('clf', MultinomialNB())])"
            ]
          },
          "metadata": {},
          "execution_count": 18
        }
      ]
    },
    {
      "cell_type": "code",
      "source": [
        "# Evaluate Baseline Accuracy\n",
        "baseline_accuracy = model_0.score(X_test, y_test)\n",
        "print(f\"Baseline model performed with accuracy: {baseline_accuracy.round(2)}\")"
      ],
      "metadata": {
        "colab": {
          "base_uri": "https://localhost:8080/"
        },
        "id": "JnOwpAsGKGtB",
        "outputId": "3a0174f0-804b-4331-846f-d454a4b49ff6"
      },
      "execution_count": 19,
      "outputs": [
        {
          "output_type": "stream",
          "name": "stdout",
          "text": [
            "Baseline model performed with accuracy: 0.83\n"
          ]
        }
      ]
    },
    {
      "cell_type": "markdown",
      "source": [
        "## Turn data into tf dataset"
      ],
      "metadata": {
        "id": "_C6zMJu4L1sa"
      }
    },
    {
      "cell_type": "code",
      "source": [
        "from tensorflow.python.data.ops.dataset_ops import AUTOTUNE\n",
        "training_data = tf.data.Dataset.from_tensor_slices((X_train, y_train))\n",
        "testing_data = tf.data.Dataset.from_tensor_slices((X_test, y_test))\n",
        "\n",
        "# Turn data into batches and use prefetching to speed up training process\n",
        "training_data = training_data.batch(32).prefetch(AUTOTUNE)\n",
        "testing_data = testing_data.batch(32).prefetch(AUTOTUNE)"
      ],
      "metadata": {
        "id": "AZS69ZOaL3hx"
      },
      "execution_count": 20,
      "outputs": []
    },
    {
      "cell_type": "markdown",
      "source": [
        "## First Model: Simple Dense Model"
      ],
      "metadata": {
        "id": "PCUXWufQKcL4"
      }
    },
    {
      "cell_type": "code",
      "source": [
        "from tensorflow.keras import layers\n",
        "\n",
        "inputs = layers.Input(shape=(1,), dtype=\"string\") # Input layer\n",
        "\n",
        "x = vectorizer(inputs) # Turn words into numbers\n",
        "x = embedding(x) # Turn each vectorized word into a vector of length 128\n",
        "x = layers.Dense(64, activation=\"relu\")(x) # Dense Layer\n",
        "x = layers.GlobalAveragePooling1D()(x) # Average pooling to reduce dimensionality\n",
        "outputs = layers.Dense(1, activation=\"sigmoid\")(x) # Output layer\n",
        "\n",
        "model_1 = tf.keras.Model(inputs, outputs)\n",
        "model_1.summary()"
      ],
      "metadata": {
        "colab": {
          "base_uri": "https://localhost:8080/"
        },
        "id": "dJ3Czrs4KWaq",
        "outputId": "9d6a6982-3954-4ca3-8bb9-3f8cd81a9a16"
      },
      "execution_count": 21,
      "outputs": [
        {
          "output_type": "stream",
          "name": "stdout",
          "text": [
            "Model: \"model\"\n",
            "_________________________________________________________________\n",
            " Layer (type)                Output Shape              Param #   \n",
            "=================================================================\n",
            " input_1 (InputLayer)        [(None, 1)]               0         \n",
            "                                                                 \n",
            " text_vectorization (TextVec  (None, 2036)             0         \n",
            " torization)                                                     \n",
            "                                                                 \n",
            " embedding (Embedding)       (None, 2036, 128)         7680000   \n",
            "                                                                 \n",
            " dense (Dense)               (None, 2036, 64)          8256      \n",
            "                                                                 \n",
            " global_average_pooling1d (G  (None, 64)               0         \n",
            " lobalAveragePooling1D)                                          \n",
            "                                                                 \n",
            " dense_1 (Dense)             (None, 1)                 65        \n",
            "                                                                 \n",
            "=================================================================\n",
            "Total params: 7,688,321\n",
            "Trainable params: 7,688,321\n",
            "Non-trainable params: 0\n",
            "_________________________________________________________________\n"
          ]
        }
      ]
    },
    {
      "cell_type": "code",
      "source": [
        "# Compile first model\n",
        "model_1.compile(loss=\"binary_crossentropy\",\n",
        "                optimizer=\"adam\",\n",
        "                metrics=[\"accuracy\"])"
      ],
      "metadata": {
        "id": "_C_QyuyFLD2p"
      },
      "execution_count": 22,
      "outputs": []
    },
    {
      "cell_type": "code",
      "source": [
        "# Fit first model\n",
        "history_1 = model_1.fit(training_data,\n",
        "                        epochs=5,\n",
        "                        steps_per_epoch=len(training_data),\n",
        "                        validation_data=testing_data,\n",
        "                        validation_steps=int(0.5 * len(testing_data)))"
      ],
      "metadata": {
        "colab": {
          "base_uri": "https://localhost:8080/"
        },
        "id": "3JDvGWrGLRRD",
        "outputId": "d17f934d-5558-4a71-ea7a-4afe070113ea"
      },
      "execution_count": 23,
      "outputs": [
        {
          "output_type": "stream",
          "name": "stdout",
          "text": [
            "Epoch 1/5\n",
            "169/169 [==============================] - 5s 19ms/step - loss: 0.6394 - accuracy: 0.6724 - val_loss: 0.5512 - val_accuracy: 0.7437\n",
            "Epoch 2/5\n",
            "169/169 [==============================] - 3s 18ms/step - loss: 0.4129 - accuracy: 0.8418 - val_loss: 0.3583 - val_accuracy: 0.8375\n",
            "Epoch 3/5\n",
            "169/169 [==============================] - 3s 18ms/step - loss: 0.2650 - accuracy: 0.8965 - val_loss: 0.2821 - val_accuracy: 0.8792\n",
            "Epoch 4/5\n",
            "169/169 [==============================] - 3s 19ms/step - loss: 0.1889 - accuracy: 0.9326 - val_loss: 0.2427 - val_accuracy: 0.8979\n",
            "Epoch 5/5\n",
            "169/169 [==============================] - 3s 19ms/step - loss: 0.1399 - accuracy: 0.9519 - val_loss: 0.2200 - val_accuracy: 0.9062\n"
          ]
        }
      ]
    },
    {
      "cell_type": "code",
      "source": [
        "model_1_accuracy = model_1.evaluate(testing_data)"
      ],
      "metadata": {
        "colab": {
          "base_uri": "https://localhost:8080/"
        },
        "id": "4qHsi2jANHqu",
        "outputId": "cd87f31a-0e8f-42be-b0dc-d7dfd18afd83"
      },
      "execution_count": 24,
      "outputs": [
        {
          "output_type": "stream",
          "name": "stdout",
          "text": [
            "30/30 [==============================] - 0s 16ms/step - loss: 0.2006 - accuracy: 0.9096\n"
          ]
        }
      ]
    },
    {
      "cell_type": "code",
      "source": [
        "print(f\"Baseline accuracy: {(baseline_accuracy * 100).round(2)}%\")\n",
        "print(f\"Model 1 accuracy: {np.round(model_1_accuracy[1] * 100, 2)}%\")"
      ],
      "metadata": {
        "colab": {
          "base_uri": "https://localhost:8080/"
        },
        "id": "Hi5cgUY9Nu5W",
        "outputId": "81604682-f4fc-4ac9-d9ba-fc4f2f70ca62"
      },
      "execution_count": 25,
      "outputs": [
        {
          "output_type": "stream",
          "name": "stdout",
          "text": [
            "Baseline accuracy: 82.75%\n",
            "Model 1 accuracy: 90.96%\n"
          ]
        }
      ]
    },
    {
      "cell_type": "markdown",
      "source": [
        "## Sample Predictions from Model 1"
      ],
      "metadata": {
        "id": "vZhkjxinQdLn"
      }
    },
    {
      "cell_type": "code",
      "source": [
        "labels_from_preds = {0: \"FAKE\", 1: \"REAL\"}"
      ],
      "metadata": {
        "id": "DXf-2HbCRxHO"
      },
      "execution_count": 26,
      "outputs": []
    },
    {
      "cell_type": "code",
      "source": [
        "article_to_test = np.random.randint(0, len(X_test))\n",
        "print(f\"Article:\\n {X_test[article_to_test][:200]}...\")\n",
        "pred_prob = model_1.predict([X_test[article_to_test]])\n",
        "pred_prob_rounded = int(np.round(pred_prob).squeeze())\n",
        "print(f\"Model prediction: {labels_from_preds[pred_prob_rounded]}\")\n",
        "print(f\"Actual Label: {labels_from_preds[y_test[article_to_test]]}\")\n"
      ],
      "metadata": {
        "colab": {
          "base_uri": "https://localhost:8080/"
        },
        "id": "b3JT6uPHN8Ka",
        "outputId": "2c363858-275e-4c7e-9207-13915b9b9d3b"
      },
      "execution_count": 27,
      "outputs": [
        {
          "output_type": "stream",
          "name": "stdout",
          "text": [
            "Article:\n",
            " hillary friend bribed fbi agent and his wife: email \n",
            "\n",
            "wsj the political organization of virginia gov. terry mcauliffe, an influential democrat with longstanding ties to bill and hillary clinton, gave ...\n",
            "Model prediction: FAKE\n",
            "Actual Label: FAKE\n"
          ]
        }
      ]
    },
    {
      "cell_type": "markdown",
      "source": [
        "## Model 2: LSTM"
      ],
      "metadata": {
        "id": "q2ZOQa0pdaGG"
      }
    },
    {
      "cell_type": "code",
      "source": [
        "inputs = layers.Input(shape=(1,), dtype=\"string\")\n",
        "x = vectorizer(inputs)\n",
        "x = embedding(x)\n",
        "\n",
        "x = layers.LSTM(128)(x)\n",
        "outputs = layers.Dense(1, activation=\"sigmoid\")(x)\n",
        "\n",
        "model_2 = tf.keras.Model(inputs, outputs)\n",
        "model_2.summary()"
      ],
      "metadata": {
        "colab": {
          "base_uri": "https://localhost:8080/"
        },
        "id": "CKamx_tzQBup",
        "outputId": "56492983-be0e-4b14-d2dd-869faf0c071a"
      },
      "execution_count": 28,
      "outputs": [
        {
          "output_type": "stream",
          "name": "stdout",
          "text": [
            "Model: \"model_1\"\n",
            "_________________________________________________________________\n",
            " Layer (type)                Output Shape              Param #   \n",
            "=================================================================\n",
            " input_2 (InputLayer)        [(None, 1)]               0         \n",
            "                                                                 \n",
            " text_vectorization (TextVec  (None, 2036)             0         \n",
            " torization)                                                     \n",
            "                                                                 \n",
            " embedding (Embedding)       (None, 2036, 128)         7680000   \n",
            "                                                                 \n",
            " lstm (LSTM)                 (None, 128)               131584    \n",
            "                                                                 \n",
            " dense_2 (Dense)             (None, 1)                 129       \n",
            "                                                                 \n",
            "=================================================================\n",
            "Total params: 7,811,713\n",
            "Trainable params: 7,811,713\n",
            "Non-trainable params: 0\n",
            "_________________________________________________________________\n"
          ]
        }
      ]
    },
    {
      "cell_type": "code",
      "source": [
        "model_2.compile(loss=\"binary_crossentropy\",\n",
        "                optimizer=\"adam\",\n",
        "                metrics=[\"accuracy\"])"
      ],
      "metadata": {
        "id": "57Z-sBM-eBWx"
      },
      "execution_count": 29,
      "outputs": []
    },
    {
      "cell_type": "code",
      "source": [
        "history_2 = model_2.fit(training_data,\n",
        "                        epochs=5,\n",
        "                        validation_data=testing_data,\n",
        "                        validation_steps=len(testing_data))"
      ],
      "metadata": {
        "colab": {
          "base_uri": "https://localhost:8080/"
        },
        "id": "Rn7b5q7UeK-C",
        "outputId": "34390267-49cc-45c6-fa1f-a428d27c441e"
      },
      "execution_count": 30,
      "outputs": [
        {
          "output_type": "stream",
          "name": "stdout",
          "text": [
            "Epoch 1/5\n",
            "169/169 [==============================] - 21s 107ms/step - loss: 0.6845 - accuracy: 0.5254 - val_loss: 0.4758 - val_accuracy: 0.8349\n",
            "Epoch 2/5\n",
            "169/169 [==============================] - 19s 113ms/step - loss: 0.6155 - accuracy: 0.6566 - val_loss: 0.6859 - val_accuracy: 0.5268\n",
            "Epoch 3/5\n",
            "169/169 [==============================] - 18s 107ms/step - loss: 0.6835 - accuracy: 0.5089 - val_loss: 0.6896 - val_accuracy: 0.5047\n",
            "Epoch 4/5\n",
            "169/169 [==============================] - 18s 107ms/step - loss: 0.6730 - accuracy: 0.5736 - val_loss: 0.5956 - val_accuracy: 0.7129\n",
            "Epoch 5/5\n",
            "169/169 [==============================] - 18s 109ms/step - loss: 0.5824 - accuracy: 0.6731 - val_loss: 0.5838 - val_accuracy: 0.6719\n"
          ]
        }
      ]
    },
    {
      "cell_type": "code",
      "source": [
        "model_2_accuracy = model_2.evaluate(testing_data)\n",
        "print(f\"Baseline accuracy: {(baseline_accuracy * 100).round(2)}%\")\n",
        "print(f\"Model 1 accuracy: {np.round(model_1_accuracy[1] * 100, 2)}%\")\n",
        "print(f\"Model 1 accuracy: {np.round(model_2_accuracy[1] * 100, 2)}%\")"
      ],
      "metadata": {
        "colab": {
          "base_uri": "https://localhost:8080/"
        },
        "id": "sXl3lnC3IhJB",
        "outputId": "bcc52cf7-6df0-473c-99f9-e34114935acf"
      },
      "execution_count": 31,
      "outputs": [
        {
          "output_type": "stream",
          "name": "stdout",
          "text": [
            "30/30 [==============================] - 1s 49ms/step - loss: 0.5838 - accuracy: 0.6719\n",
            "Baseline accuracy: 82.75%\n",
            "Model 1 accuracy: 90.96%\n",
            "Model 1 accuracy: 67.19%\n"
          ]
        }
      ]
    },
    {
      "cell_type": "markdown",
      "source": [
        "## Model 3: Universal Sentence Encoder from tensorflow hub"
      ],
      "metadata": {
        "id": "ZHt0nka8mjS9"
      }
    },
    {
      "cell_type": "code",
      "source": [
        "import tensorflow_hub as hub"
      ],
      "metadata": {
        "id": "nBlTsT6Yml6x"
      },
      "execution_count": 32,
      "outputs": []
    },
    {
      "cell_type": "code",
      "source": [
        "universal_sentence_encoder = hub.KerasLayer(\"https://tfhub.dev/google/universal-sentence-encoder/4\", #Link from tensorflow hub\n",
        "                                            trainable=False,\n",
        "                                            input_shape=[],\n",
        "                                            dtype=tf.string)"
      ],
      "metadata": {
        "id": "cY7qJaW5eXBg"
      },
      "execution_count": 33,
      "outputs": []
    },
    {
      "cell_type": "code",
      "source": [
        "model_3 = tf.keras.Sequential([\n",
        "  universal_sentence_encoder, #Sentence encoder gets rid of need for vectorizer and embeddings\n",
        "  layers.Dense(64, activation=\"relu\"),\n",
        "  layers.Dense(1, activation=\"sigmoid\")\n",
        "])\n",
        "\n",
        "model_3.summary()"
      ],
      "metadata": {
        "colab": {
          "base_uri": "https://localhost:8080/"
        },
        "id": "oRl7HO3qmF8F",
        "outputId": "063e74f6-59c0-4b8d-b6c4-21dcabf6a4a5"
      },
      "execution_count": 34,
      "outputs": [
        {
          "output_type": "stream",
          "name": "stdout",
          "text": [
            "Model: \"sequential\"\n",
            "_________________________________________________________________\n",
            " Layer (type)                Output Shape              Param #   \n",
            "=================================================================\n",
            " keras_layer (KerasLayer)    (None, 512)               256797824 \n",
            "                                                                 \n",
            " dense_3 (Dense)             (None, 64)                32832     \n",
            "                                                                 \n",
            " dense_4 (Dense)             (None, 1)                 65        \n",
            "                                                                 \n",
            "=================================================================\n",
            "Total params: 256,830,721\n",
            "Trainable params: 32,897\n",
            "Non-trainable params: 256,797,824\n",
            "_________________________________________________________________\n"
          ]
        }
      ]
    },
    {
      "cell_type": "code",
      "source": [
        "model_3.compile(loss=\"binary_crossentropy\",\n",
        "                optimizer=\"adam\",\n",
        "                metrics=[\"accuracy\"])"
      ],
      "metadata": {
        "id": "VCx0kSBlnWIM"
      },
      "execution_count": 35,
      "outputs": []
    },
    {
      "cell_type": "code",
      "source": [
        "history_3 = model_3.fit(training_data,\n",
        "                        epochs=5,\n",
        "                        steps_per_epoch=len(training_data),\n",
        "                        validation_data=testing_data,\n",
        "                        validation_steps=int(0.15* len(testing_data)))"
      ],
      "metadata": {
        "colab": {
          "base_uri": "https://localhost:8080/"
        },
        "id": "bruNJ2vNo2f7",
        "outputId": "2c28c79b-36e4-4acb-b6e6-005d0eef2e99"
      },
      "execution_count": 36,
      "outputs": [
        {
          "output_type": "stream",
          "name": "stdout",
          "text": [
            "Epoch 1/5\n",
            "169/169 [==============================] - 25s 133ms/step - loss: 0.4702 - accuracy: 0.8022 - val_loss: 0.3185 - val_accuracy: 0.8672\n",
            "Epoch 2/5\n",
            "169/169 [==============================] - 22s 129ms/step - loss: 0.3219 - accuracy: 0.8637 - val_loss: 0.2743 - val_accuracy: 0.8828\n",
            "Epoch 3/5\n",
            "169/169 [==============================] - 22s 129ms/step - loss: 0.2914 - accuracy: 0.8776 - val_loss: 0.2583 - val_accuracy: 0.8750\n",
            "Epoch 4/5\n",
            "169/169 [==============================] - 22s 129ms/step - loss: 0.2753 - accuracy: 0.8863 - val_loss: 0.2490 - val_accuracy: 0.8750\n",
            "Epoch 5/5\n",
            "169/169 [==============================] - 22s 130ms/step - loss: 0.2642 - accuracy: 0.8936 - val_loss: 0.2433 - val_accuracy: 0.8750\n"
          ]
        }
      ]
    },
    {
      "cell_type": "code",
      "source": [
        "model_3_accuracy = model_3.evaluate(testing_data)\n",
        "print(f\"Baseline accuracy: {(baseline_accuracy * 100).round(2)}%\")\n",
        "print(f\"Model 1 accuracy: {np.round(model_1_accuracy[1] * 100, 2)}%\")\n",
        "print(f\"Model 3 accuracy: {np.round(model_3_accuracy[1] * 100, 2)}%\")"
      ],
      "metadata": {
        "colab": {
          "base_uri": "https://localhost:8080/"
        },
        "id": "SNJJHOJcpBej",
        "outputId": "b4aaeb2a-a533-4220-c1fd-9b6021460c80"
      },
      "execution_count": 37,
      "outputs": [
        {
          "output_type": "stream",
          "name": "stdout",
          "text": [
            "30/30 [==============================] - 5s 158ms/step - loss: 0.2426 - accuracy: 0.8959\n",
            "Baseline accuracy: 82.75%\n",
            "Model 1 accuracy: 90.96%\n",
            "Model 3 accuracy: 89.59%\n"
          ]
        }
      ]
    },
    {
      "cell_type": "markdown",
      "source": [
        "## Model 4: Same as model 3 but double the epochs"
      ],
      "metadata": {
        "id": "K3Ydt3i2p68P"
      }
    },
    {
      "cell_type": "code",
      "source": [
        "model_4 = tf.keras.Sequential([\n",
        "  universal_sentence_encoder,\n",
        "  layers.Dense(64, activation=\"relu\"),\n",
        "  layers.Dense(1, activation=\"sigmoid\")\n",
        "])\n",
        "\n",
        "model_4.summary()"
      ],
      "metadata": {
        "colab": {
          "base_uri": "https://localhost:8080/"
        },
        "id": "4imYgutCp3bZ",
        "outputId": "10c7b5ea-5d8a-4711-a8f4-3aac9657bc95"
      },
      "execution_count": 38,
      "outputs": [
        {
          "output_type": "stream",
          "name": "stdout",
          "text": [
            "Model: \"sequential_1\"\n",
            "_________________________________________________________________\n",
            " Layer (type)                Output Shape              Param #   \n",
            "=================================================================\n",
            " keras_layer (KerasLayer)    (None, 512)               256797824 \n",
            "                                                                 \n",
            " dense_5 (Dense)             (None, 64)                32832     \n",
            "                                                                 \n",
            " dense_6 (Dense)             (None, 1)                 65        \n",
            "                                                                 \n",
            "=================================================================\n",
            "Total params: 256,830,721\n",
            "Trainable params: 32,897\n",
            "Non-trainable params: 256,797,824\n",
            "_________________________________________________________________\n"
          ]
        }
      ]
    },
    {
      "cell_type": "code",
      "source": [
        "model_4.compile(loss=\"binary_crossentropy\",\n",
        "                optimizer=\"adam\",\n",
        "                metrics=[\"accuracy\"])"
      ],
      "metadata": {
        "id": "t-cH-s3dqAl3"
      },
      "execution_count": 39,
      "outputs": []
    },
    {
      "cell_type": "code",
      "source": [
        "history_4 = model_4.fit(training_data,\n",
        "                        epochs=10,\n",
        "                        steps_per_epoch=len(training_data),\n",
        "                        validation_data=testing_data,\n",
        "                        validation_steps=int(0.15*len(testing_data)))"
      ],
      "metadata": {
        "colab": {
          "base_uri": "https://localhost:8080/"
        },
        "id": "hlYtuCQAqGPS",
        "outputId": "053e0584-c824-4e45-ff4a-7af885bb157c"
      },
      "execution_count": 40,
      "outputs": [
        {
          "output_type": "stream",
          "name": "stdout",
          "text": [
            "Epoch 1/10\n",
            "169/169 [==============================] - 23s 132ms/step - loss: 0.4736 - accuracy: 0.7957 - val_loss: 0.3200 - val_accuracy: 0.8750\n",
            "Epoch 2/10\n",
            "169/169 [==============================] - 21s 125ms/step - loss: 0.3218 - accuracy: 0.8653 - val_loss: 0.2761 - val_accuracy: 0.8906\n",
            "Epoch 3/10\n",
            "169/169 [==============================] - 21s 126ms/step - loss: 0.2918 - accuracy: 0.8780 - val_loss: 0.2610 - val_accuracy: 0.8750\n",
            "Epoch 4/10\n",
            "169/169 [==============================] - 22s 128ms/step - loss: 0.2762 - accuracy: 0.8858 - val_loss: 0.2526 - val_accuracy: 0.8750\n",
            "Epoch 5/10\n",
            "169/169 [==============================] - 21s 127ms/step - loss: 0.2655 - accuracy: 0.8923 - val_loss: 0.2473 - val_accuracy: 0.8750\n",
            "Epoch 6/10\n",
            "169/169 [==============================] - 22s 129ms/step - loss: 0.2572 - accuracy: 0.8958 - val_loss: 0.2439 - val_accuracy: 0.8828\n",
            "Epoch 7/10\n",
            "169/169 [==============================] - 22s 128ms/step - loss: 0.2503 - accuracy: 0.8980 - val_loss: 0.2418 - val_accuracy: 0.8828\n",
            "Epoch 8/10\n",
            "169/169 [==============================] - 22s 128ms/step - loss: 0.2443 - accuracy: 0.9025 - val_loss: 0.2405 - val_accuracy: 0.8828\n",
            "Epoch 9/10\n",
            "169/169 [==============================] - 22s 128ms/step - loss: 0.2389 - accuracy: 0.9045 - val_loss: 0.2395 - val_accuracy: 0.8828\n",
            "Epoch 10/10\n",
            "169/169 [==============================] - 22s 129ms/step - loss: 0.2340 - accuracy: 0.9066 - val_loss: 0.2386 - val_accuracy: 0.8906\n"
          ]
        }
      ]
    },
    {
      "cell_type": "code",
      "source": [
        "model_4_accuracy = model_4.evaluate(testing_data)"
      ],
      "metadata": {
        "colab": {
          "base_uri": "https://localhost:8080/"
        },
        "id": "yxmp35ZJqSla",
        "outputId": "45e32e7c-88c1-48c0-d634-d7e08530a4b5"
      },
      "execution_count": 41,
      "outputs": [
        {
          "output_type": "stream",
          "name": "stdout",
          "text": [
            "30/30 [==============================] - 5s 154ms/step - loss: 0.2342 - accuracy: 0.8980\n"
          ]
        }
      ]
    },
    {
      "cell_type": "code",
      "source": [
        "print(f\"Baseline accuracy: {(baseline_accuracy * 100).round(2)}%\")\n",
        "print(f\"Model 1 accuracy: {np.round(model_1_accuracy[1] * 100, 2)}%\")\n",
        "print(f\"Model 3 accuracy: {np.round(model_3_accuracy[1] * 100, 2)}%\")\n",
        "print(f\"Model 4 accuracy: {np.round(model_4_accuracy[1] * 100, 2)}%\")"
      ],
      "metadata": {
        "colab": {
          "base_uri": "https://localhost:8080/"
        },
        "id": "SGYI-AFHrrIt",
        "outputId": "fb80da44-5bcc-4f67-8b8e-63e858ef6b6e"
      },
      "execution_count": 42,
      "outputs": [
        {
          "output_type": "stream",
          "name": "stdout",
          "text": [
            "Baseline accuracy: 82.75%\n",
            "Model 1 accuracy: 90.96%\n",
            "Model 3 accuracy: 89.59%\n",
            "Model 4 accuracy: 89.8%\n"
          ]
        }
      ]
    },
    {
      "cell_type": "markdown",
      "source": [
        "## Model 5: First model but twice as many epochs"
      ],
      "metadata": {
        "id": "iXSppw7psF7X"
      }
    },
    {
      "cell_type": "code",
      "source": [
        "inputs = layers.Input(shape=(1,), dtype=\"string\")\n",
        "\n",
        "x = vectorizer(inputs)\n",
        "x = embedding(x)\n",
        "x = layers.Dense(64, activation=\"relu\")(x)\n",
        "x = layers.GlobalAveragePooling1D()(x)\n",
        "outputs = layers.Dense(1, activation=\"sigmoid\")(x)\n",
        "\n",
        "model_5 = tf.keras.Model(inputs, outputs)\n",
        "model_5.summary()"
      ],
      "metadata": {
        "colab": {
          "base_uri": "https://localhost:8080/"
        },
        "id": "3nunTLJ0r3p9",
        "outputId": "4af97491-9eb2-4ae8-d87b-4835b56f4f8b"
      },
      "execution_count": 43,
      "outputs": [
        {
          "output_type": "stream",
          "name": "stdout",
          "text": [
            "Model: \"model_2\"\n",
            "_________________________________________________________________\n",
            " Layer (type)                Output Shape              Param #   \n",
            "=================================================================\n",
            " input_3 (InputLayer)        [(None, 1)]               0         \n",
            "                                                                 \n",
            " text_vectorization (TextVec  (None, 2036)             0         \n",
            " torization)                                                     \n",
            "                                                                 \n",
            " embedding (Embedding)       (None, 2036, 128)         7680000   \n",
            "                                                                 \n",
            " dense_7 (Dense)             (None, 2036, 64)          8256      \n",
            "                                                                 \n",
            " global_average_pooling1d_1   (None, 64)               0         \n",
            " (GlobalAveragePooling1D)                                        \n",
            "                                                                 \n",
            " dense_8 (Dense)             (None, 1)                 65        \n",
            "                                                                 \n",
            "=================================================================\n",
            "Total params: 7,688,321\n",
            "Trainable params: 7,688,321\n",
            "Non-trainable params: 0\n",
            "_________________________________________________________________\n"
          ]
        }
      ]
    },
    {
      "cell_type": "code",
      "source": [
        "model_5.compile(loss=\"binary_crossentropy\",\n",
        "                optimizer=\"adam\",\n",
        "                metrics=[\"accuracy\"])"
      ],
      "metadata": {
        "id": "xqkd49AHsRYi"
      },
      "execution_count": 44,
      "outputs": []
    },
    {
      "cell_type": "code",
      "source": [
        "history_5 = model_5.fit(training_data,\n",
        "                        epochs=10,\n",
        "                        steps_per_epoch=len(training_data),\n",
        "                        validation_data=testing_data,\n",
        "                        validation_steps=int(0.15*len(testing_data)))"
      ],
      "metadata": {
        "colab": {
          "base_uri": "https://localhost:8080/"
        },
        "id": "n0axXrSLsXAx",
        "outputId": "48a69d9c-4853-4be0-ddeb-139a1290a329"
      },
      "execution_count": 45,
      "outputs": [
        {
          "output_type": "stream",
          "name": "stdout",
          "text": [
            "Epoch 1/10\n",
            "169/169 [==============================] - 3s 15ms/step - loss: 0.4987 - accuracy: 0.8518 - val_loss: 0.3474 - val_accuracy: 0.8672\n",
            "Epoch 2/10\n",
            "169/169 [==============================] - 2s 14ms/step - loss: 0.2307 - accuracy: 0.9328 - val_loss: 0.2489 - val_accuracy: 0.9062\n",
            "Epoch 3/10\n",
            "169/169 [==============================] - 2s 14ms/step - loss: 0.1501 - accuracy: 0.9515 - val_loss: 0.2209 - val_accuracy: 0.9062\n",
            "Epoch 4/10\n",
            "169/169 [==============================] - 2s 14ms/step - loss: 0.1104 - accuracy: 0.9645 - val_loss: 0.2100 - val_accuracy: 0.9297\n",
            "Epoch 5/10\n",
            "169/169 [==============================] - 2s 14ms/step - loss: 0.0850 - accuracy: 0.9768 - val_loss: 0.2066 - val_accuracy: 0.9375\n",
            "Epoch 6/10\n",
            "169/169 [==============================] - 2s 14ms/step - loss: 0.0669 - accuracy: 0.9859 - val_loss: 0.2081 - val_accuracy: 0.9297\n",
            "Epoch 7/10\n",
            "169/169 [==============================] - 2s 14ms/step - loss: 0.0534 - accuracy: 0.9902 - val_loss: 0.2121 - val_accuracy: 0.9297\n",
            "Epoch 8/10\n",
            "169/169 [==============================] - 2s 14ms/step - loss: 0.0433 - accuracy: 0.9944 - val_loss: 0.2177 - val_accuracy: 0.9297\n",
            "Epoch 9/10\n",
            "169/169 [==============================] - 2s 14ms/step - loss: 0.0356 - accuracy: 0.9967 - val_loss: 0.2253 - val_accuracy: 0.9297\n",
            "Epoch 10/10\n",
            "169/169 [==============================] - 2s 14ms/step - loss: 0.0296 - accuracy: 0.9972 - val_loss: 0.2348 - val_accuracy: 0.9297\n"
          ]
        }
      ]
    },
    {
      "cell_type": "code",
      "source": [
        "model_5_accuracy = model_5.evaluate(testing_data)"
      ],
      "metadata": {
        "colab": {
          "base_uri": "https://localhost:8080/"
        },
        "id": "YU7LIIHMskv9",
        "outputId": "b9e17e27-55cd-4058-814a-aabe769180e4"
      },
      "execution_count": 46,
      "outputs": [
        {
          "output_type": "stream",
          "name": "stdout",
          "text": [
            "30/30 [==============================] - 0s 11ms/step - loss: 0.1834 - accuracy: 0.9464\n"
          ]
        }
      ]
    },
    {
      "cell_type": "code",
      "source": [
        "#model_5.save(\"PUT SAVE PATH HERE\")"
      ],
      "metadata": {
        "id": "AC_glQ7zsvdF"
      },
      "execution_count": 47,
      "outputs": []
    },
    {
      "cell_type": "markdown",
      "source": [
        "## Model 6: Testing if same (or better) results can be achieved with even smaller model"
      ],
      "metadata": {
        "id": "AC8ZsFVYt_dW"
      }
    },
    {
      "cell_type": "code",
      "source": [
        "inputs = layers.Input(shape=(1,), dtype=\"string\")\n",
        "\n",
        "x = vectorizer(inputs)\n",
        "x = embedding(x)\n",
        "x = layers.Dense(16, activation=\"relu\")(x)\n",
        "x = layers.Dense(8, activation=\"relu\")(x)\n",
        "x = layers.GlobalAveragePooling1D()(x)\n",
        "outputs = layers.Dense(1, activation=\"sigmoid\")(x)\n",
        "\n",
        "model_6 = tf.keras.Model(inputs, outputs)\n",
        "model_6.summary()"
      ],
      "metadata": {
        "colab": {
          "base_uri": "https://localhost:8080/"
        },
        "id": "ol3Mlc1huXKH",
        "outputId": "2e404880-5f63-4464-f434-6da30a0456f5"
      },
      "execution_count": 48,
      "outputs": [
        {
          "output_type": "stream",
          "name": "stdout",
          "text": [
            "Model: \"model_3\"\n",
            "_________________________________________________________________\n",
            " Layer (type)                Output Shape              Param #   \n",
            "=================================================================\n",
            " input_4 (InputLayer)        [(None, 1)]               0         \n",
            "                                                                 \n",
            " text_vectorization (TextVec  (None, 2036)             0         \n",
            " torization)                                                     \n",
            "                                                                 \n",
            " embedding (Embedding)       (None, 2036, 128)         7680000   \n",
            "                                                                 \n",
            " dense_9 (Dense)             (None, 2036, 16)          2064      \n",
            "                                                                 \n",
            " dense_10 (Dense)            (None, 2036, 8)           136       \n",
            "                                                                 \n",
            " global_average_pooling1d_2   (None, 8)                0         \n",
            " (GlobalAveragePooling1D)                                        \n",
            "                                                                 \n",
            " dense_11 (Dense)            (None, 1)                 9         \n",
            "                                                                 \n",
            "=================================================================\n",
            "Total params: 7,682,209\n",
            "Trainable params: 7,682,209\n",
            "Non-trainable params: 0\n",
            "_________________________________________________________________\n"
          ]
        }
      ]
    },
    {
      "cell_type": "code",
      "source": [
        "model_6.compile(loss=\"binary_crossentropy\",\n",
        "                optimizer=\"adam\",\n",
        "                metrics=[\"accuracy\"])"
      ],
      "metadata": {
        "id": "Lp2QjWuAusXC"
      },
      "execution_count": 49,
      "outputs": []
    },
    {
      "cell_type": "code",
      "source": [
        "history_6 = model_6.fit(training_data,\n",
        "                        epochs=8,\n",
        "                        steps_per_epoch=len(training_data),\n",
        "                        validation_data=testing_data,\n",
        "                        validation_steps=len(testing_data))"
      ],
      "metadata": {
        "colab": {
          "base_uri": "https://localhost:8080/"
        },
        "id": "Smvmx6BPu4sr",
        "outputId": "5783a748-f142-46c0-ca79-2c410635c1d7"
      },
      "execution_count": 50,
      "outputs": [
        {
          "output_type": "stream",
          "name": "stdout",
          "text": [
            "Epoch 1/8\n",
            "169/169 [==============================] - 4s 17ms/step - loss: 0.6149 - accuracy: 0.8289 - val_loss: 0.4755 - val_accuracy: 0.8601\n",
            "Epoch 2/8\n",
            "169/169 [==============================] - 3s 16ms/step - loss: 0.2823 - accuracy: 0.9469 - val_loss: 0.2368 - val_accuracy: 0.9138\n",
            "Epoch 3/8\n",
            "169/169 [==============================] - 3s 16ms/step - loss: 0.1296 - accuracy: 0.9773 - val_loss: 0.1859 - val_accuracy: 0.9474\n",
            "Epoch 4/8\n",
            "169/169 [==============================] - 3s 16ms/step - loss: 0.0813 - accuracy: 0.9913 - val_loss: 0.1709 - val_accuracy: 0.9485\n",
            "Epoch 5/8\n",
            "169/169 [==============================] - 3s 16ms/step - loss: 0.0581 - accuracy: 0.9955 - val_loss: 0.1677 - val_accuracy: 0.9516\n",
            "Epoch 6/8\n",
            "169/169 [==============================] - 3s 16ms/step - loss: 0.0440 - accuracy: 0.9967 - val_loss: 0.1688 - val_accuracy: 0.9527\n",
            "Epoch 7/8\n",
            "169/169 [==============================] - 3s 16ms/step - loss: 0.0346 - accuracy: 0.9965 - val_loss: 0.1729 - val_accuracy: 0.9537\n",
            "Epoch 8/8\n",
            "169/169 [==============================] - 3s 16ms/step - loss: 0.0279 - accuracy: 0.9972 - val_loss: 0.1786 - val_accuracy: 0.9516\n"
          ]
        }
      ]
    },
    {
      "cell_type": "code",
      "source": [
        "model_6_accuracy = model_6.evaluate(testing_data)\n",
        "print(f\"Baseline accuracy: {(baseline_accuracy * 100).round(2)}%\")\n",
        "print(f\"Model 1 accuracy: {np.round(model_1_accuracy[1] * 100, 2)}%\")\n",
        "print(f\"Model 3 accuracy: {np.round(model_3_accuracy[1] * 100, 2)}%\")\n",
        "print(f\"Model 4 accuracy: {np.round(model_6_accuracy[1] * 100, 2)}%\")"
      ],
      "metadata": {
        "colab": {
          "base_uri": "https://localhost:8080/"
        },
        "id": "Hg11tDNHJK_Q",
        "outputId": "e93f14e1-36ea-48ce-ed92-be6274c0c0b9"
      },
      "execution_count": 51,
      "outputs": [
        {
          "output_type": "stream",
          "name": "stdout",
          "text": [
            "30/30 [==============================] - 0s 12ms/step - loss: 0.1786 - accuracy: 0.9516\n",
            "Baseline accuracy: 82.75%\n",
            "Model 1 accuracy: 90.96%\n",
            "Model 3 accuracy: 89.59%\n",
            "Model 4 accuracy: 95.16%\n"
          ]
        }
      ]
    },
    {
      "cell_type": "markdown",
      "source": [
        "Overall, it appears that a simple dense model outperforms LSTM based models. Additionally, using a custom embedding layer produces better results than the pretrained universal sentence encoder."
      ],
      "metadata": {
        "id": "ZKDlGP2SJT7X"
      }
    },
    {
      "cell_type": "code",
      "source": [
        "#model_6.save(\"PUT SAVE PATH HERE\")"
      ],
      "metadata": {
        "id": "r8zp4l17z6rL"
      },
      "execution_count": 52,
      "outputs": []
    },
    {
      "cell_type": "markdown",
      "source": [
        "## Writing a function to see the model's predictions"
      ],
      "metadata": {
        "id": "TD7R2MXoJuqa"
      }
    },
    {
      "cell_type": "code",
      "source": [
        "def predict_news(text, title=None, model=model_6):\n",
        "  \"\"\"\n",
        "  Function to predict whether the passed text is fake or real news\n",
        "\n",
        "  Parameters:\n",
        "  text: contents of the article\n",
        "  title (optional): title of the article, if passed it will be prepended to the text\n",
        "  model (optional): the model with which to make predictions. Default is model_6\n",
        "\n",
        "  Returns:\n",
        "  A tuple with the first index being the predicted label, and the second index being the prediction probability\n",
        "  \"\"\"\n",
        "  text = text.lower()\n",
        "  labels = {0: \"FAKE\", 1: \"REAL\"}\n",
        "  if title:\n",
        "    title = title.lower()\n",
        "    text = title + \": \" + text\n",
        "  prediction_probability = model.predict([text])\n",
        "  prediction_rounded = np.round(prediction_probability.squeeze())\n",
        "  prediction_label = labels[prediction_rounded]\n",
        "  return (prediction_label, np.round(prediction_probability.squeeze(), 4))"
      ],
      "metadata": {
        "id": "I6JW7HIrDwEP"
      },
      "execution_count": 53,
      "outputs": []
    },
    {
      "cell_type": "code",
      "source": [
        "test_text = \"\"\" Try it out! Paste the text from an article you want to test here\n",
        "\"\"\"\n",
        "test_title = \"Paste the title of the article you want to test here\""
      ],
      "metadata": {
        "id": "UxpBS7AUK_3j"
      },
      "execution_count": 54,
      "outputs": []
    },
    {
      "cell_type": "code",
      "source": [
        "# If you've pasted in your article and title, uncomment the line below to see the prediction!\n",
        "\n",
        "#predict_news(test_text, title=test_title)"
      ],
      "metadata": {
        "id": "1JmHIN_mL36W"
      },
      "execution_count": 55,
      "outputs": []
    },
    {
      "cell_type": "code",
      "source": [
        ""
      ],
      "metadata": {
        "id": "6WIFPH7PL7p5"
      },
      "execution_count": 55,
      "outputs": []
    }
  ]
}